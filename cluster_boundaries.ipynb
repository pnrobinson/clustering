{
 "cells": [
  {
   "cell_type": "markdown",
   "id": "18d6629d",
   "metadata": {},
   "source": [
    "<h1>Cluster boundaries</h1>\n",
    "<p>This notebook first shows code from an sklearn tutorial and then adapts it to demonstrate effects of different distributions of 2D Euclidean data on similarities.</p>"
   ]
  },
  {
   "cell_type": "code",
   "execution_count": 7,
   "id": "c528b744",
   "metadata": {},
   "outputs": [],
   "source": [
    "import numpy as np\n",
    "from sklearn.datasets import load_digits\n",
    "from time import time\n",
    "from sklearn import metrics\n",
    "from sklearn.pipeline import make_pipeline\n",
    "from sklearn.preprocessing import StandardScaler\n",
    "from sklearn.cluster import KMeans\n",
    "from sklearn.decomposition import PCA\n",
    "import matplotlib.pyplot as plt"
   ]
  },
  {
   "cell_type": "markdown",
   "id": "88d54e9f",
   "metadata": {},
   "source": [
    "<h1>Create data with three clusters with different distributions</h1>"
   ]
  },
  {
   "cell_type": "code",
   "execution_count": 13,
   "id": "bdd8bc6d",
   "metadata": {},
   "outputs": [],
   "source": [
    "from numpy.random import multivariate_normal as mvnl"
   ]
  },
  {
   "cell_type": "code",
   "execution_count": 59,
   "id": "4e985020",
   "metadata": {},
   "outputs": [],
   "source": [
    "mean1 = [-2, -2]\n",
    "cov1 = [[0.05, 0], [0, 0.05]]\n",
    "mean2 = [2, 1]\n",
    "cov2 = [[0.05, 0], [0, 0.05]]\n",
    "mean3 = [-1, 2]\n",
    "cov3 = [[0.5, 0], [0, 0.25]]\n",
    "x1, y1 = mvnl(mean1, cov1, 50).T\n",
    "x2, y2 = mvnl(mean2, cov2, 50).T\n",
    "x3, y3 = mvnl(mean3, cov3, 50).T"
   ]
  },
  {
   "cell_type": "code",
   "execution_count": 60,
   "id": "901ac035",
   "metadata": {},
   "outputs": [],
   "source": [
    "x = np.array([x1, x2, x3]).flatten()\n",
    "y = np.array([y1, y2, y3]).flatten()"
   ]
  },
  {
   "cell_type": "code",
   "execution_count": 66,
   "id": "f3ecfaeb",
   "metadata": {},
   "outputs": [],
   "source": [
    "data = np.array([[a,b] for a,b in zip(x, y)])"
   ]
  },
  {
   "cell_type": "code",
   "execution_count": 67,
   "id": "59207a07",
   "metadata": {},
   "outputs": [
    {
     "data": {
      "image/png": "[encoded data removed]",
      "text/plain": [
       "<Figure size 640x480 with 1 Axes>"
      ]
     },
     "metadata": {},
     "output_type": "display_data"
    }
   ],
   "source": [
    "kmeans = KMeans(init=\"k-means++\", n_clusters=3, n_init=4)\n",
    "kmeans.fit(data)\n",
    "\n",
    "# Step size of the mesh. Decrease to increase the quality of the VQ.\n",
    "h = 0.02  # point in the mesh [x_min, x_max]x[y_min, y_max].\n",
    "\n",
    "# Plot the decision boundary. For that, we will assign a color to each\n",
    "x_min, x_max = data[:, 0].min() - 1, data[:, 0].max() + 1\n",
    "y_min, y_max = data[:, 1].min() - 1, data[:, 1].max() + 1\n",
    "xx, yy = np.meshgrid(np.arange(x_min, x_max, h), np.arange(y_min, y_max, h))\n",
    "\n",
    "# Obtain labels for each point in mesh. Use last trained model.\n",
    "Z = kmeans.predict(np.c_[xx.ravel(), yy.ravel()])\n",
    "\n",
    "# Put the result into a color plot\n",
    "Z = Z.reshape(xx.shape)\n",
    "plt.figure(1)\n",
    "plt.clf()\n",
    "plt.imshow(\n",
    "    Z,\n",
    "    interpolation=\"nearest\",\n",
    "    extent=(xx.min(), xx.max(), yy.min(), yy.max()),\n",
    "    cmap=plt.cm.Paired,\n",
    "    aspect=\"auto\",\n",
    "    origin=\"lower\",\n",
    ")\n",
    "\n",
    "plt.plot(data[:, 0], data[:, 1], \"k.\", markersize=2)\n",
    "# Plot the centroids as a white X\n",
    "centroids = kmeans.cluster_centers_\n",
    "plt.scatter(\n",
    "    centroids[:, 0],\n",
    "    centroids[:, 1],\n",
    "    marker=\"x\",\n",
    "    s=169,\n",
    "    linewidths=3,\n",
    "    color=\"r\",\n",
    "    zorder=10,\n",
    ")\n",
    "plt.title(\n",
    "    \"K-means clustering (Centroids - red cross)\"\n",
    ")\n",
    "plt.xlim(x_min, x_max)\n",
    "plt.ylim(y_min, y_max)\n",
    "plt.show()"
   ]
  },
  {
   "cell_type": "markdown",
   "id": "b01ae9da",
   "metadata": {},
   "source": [
    "<h1>Random data points</h1>\n",
    "<p>Our three clusters partition the entire 2D space, but we if we treat the clusters as the original 2D \n",
    "Normal distributions, not all potential datapoints are equally likely.</p>"
   ]
  },
  {
   "cell_type": "code",
   "execution_count": null,
   "id": "ca277407",
   "metadata": {},
   "outputs": [],
   "source": []
  }
 ],
 "metadata": {
  "kernelspec": {
   "display_name": "Python 3 (ipykernel)",
   "language": "python",
   "name": "python3"
  },
  "language_info": {
   "codemirror_mode": {
    "name": "ipython",
    "version": 3
   },
   "file_extension": ".py",
   "mimetype": "text/x-python",
   "name": "python",
   "nbconvert_exporter": "python",
   "pygments_lexer": "ipython3",
   "version": "3.10.6"
  }
 },
 "nbformat": 4,
 "nbformat_minor": 5
}
